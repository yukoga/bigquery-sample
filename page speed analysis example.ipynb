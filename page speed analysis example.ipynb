{
 "cells": [
  {
   "cell_type": "markdown",
   "metadata": {
    "toc": "true"
   },
   "source": [
    " # Table of Contents\n",
    "<div class=\"toc\" style=\"margin-top: 1em;\"><ul class=\"toc-item\" id=\"toc-level0\"><li><span><a href=\"http://localhost:8888/notebooks/page%20speed%20analysis%20example.ipynb#ページ速度の分析\" data-toc-modified-id=\"ページ速度の分析-1\">ページ速度の分析</a></span><ul class=\"toc-item\"><li><span><a href=\"http://localhost:8888/notebooks/page%20speed%20analysis%20example.ipynb#BigQuery-からデータを取得する\" data-toc-modified-id=\"BigQuery-からデータを取得する-1.1\">BigQuery からデータを取得する</a></span></li><li><span><a href=\"http://localhost:8888/notebooks/page%20speed%20analysis%20example.ipynb#データの内容の確認\" data-toc-modified-id=\"データの内容の確認-1.2\">データの内容の確認</a></span></li><li><span><a href=\"http://localhost:8888/notebooks/page%20speed%20analysis%20example.ipynb#可視化\" data-toc-modified-id=\"可視化-1.3\">可視化</a></span></li><li><span><a href=\"http://localhost:8888/notebooks/page%20speed%20analysis%20example.ipynb#さらなる定量評価と改善すべきページの洗い出し\" data-toc-modified-id=\"さらなる定量評価と改善すべきページの洗い出し-1.4\">さらなる定量評価と改善すべきページの洗い出し</a></span></li></ul></li></ul></div>"
   ]
  },
  {
   "cell_type": "markdown",
   "metadata": {},
   "source": [
    "# ページ速度の分析"
   ]
  },
  {
   "cell_type": "code",
   "execution_count": 1,
   "metadata": {
    "collapsed": true
   },
   "outputs": [],
   "source": [
    "%matplotlib inline"
   ]
  },
  {
   "cell_type": "code",
   "execution_count": 2,
   "metadata": {
    "collapsed": true
   },
   "outputs": [],
   "source": [
    "import pandas as pd\n",
    "import numpy as np\n",
    "import matplotlib.pyplot as plt\n",
    "import seaborn as sns"
   ]
  },
  {
   "cell_type": "markdown",
   "metadata": {},
   "source": [
    "## BigQuery からデータを取得する\n",
    "SQL の定義（  `__PROJECT__, __DATASET__, __START_DATE__, __END_DATE__` は自分の環境にあわせて適宜変更する ）"
   ]
  },
  {
   "cell_type": "code",
   "execution_count": 3,
   "metadata": {
    "collapsed": true
   },
   "outputs": [],
   "source": [
    "sql = '''\n",
    "WITH base AS (\n",
    "  SELECT\n",
    "    fullVisitorId\n",
    "    , CONCAT(fullVisitorId, CAST(visitStartTime AS STRING)) AS sessionId\n",
    "    , h.hitNumber AS hitNumber\n",
    "    , REGEXP_REPLACE(h.page.pagePath, r'\\?[a-zA-Z0-9]+=.*', '') AS page\n",
    "    , h.type AS hitType\n",
    "    , h.isExit AS isExit\n",
    "    , h.latencyTracking.pageLoadSample AS pageLoadSample\n",
    "    , h.latencyTracking.pageLoadTime AS pageLoadTime\n",
    "  FROM\n",
    "    `__PROJECT__.__DATASET__.ga_sessions_20*`\n",
    "    , UNNEST(hits) AS h\n",
    "  WHERE\n",
    "    _TABLE_SUFFIX BETWEEN '__START_DATE__' AND '__END_DATE__'\n",
    ")\n",
    ", page_speed AS (\n",
    "  SELECT\n",
    "    fullVisitorId\n",
    "    , sessionId\n",
    "    , hitNumber\n",
    "    , hitType\n",
    "    , page\n",
    "    , pageLoadTime\n",
    "  FROM\n",
    "    base\n",
    "  WHERE\n",
    "    pageLoadSample = 1\n",
    ")\n",
    ", pages AS (\n",
    "  SELECT\n",
    "    fullVisitorId\n",
    "    , sessionId\n",
    "    , hitNumber\n",
    "    , page\n",
    "    , isExit\n",
    "    , hitType\n",
    "  FROM\n",
    "    base\n",
    "  WHERE\n",
    "    hitType = 'PAGE'\n",
    ")\n",
    "\n",
    "SELECT\n",
    "  t1.fullVisitorId\n",
    "  , t1.sessionId\n",
    "  , t2.hitNumber AS hitNumber\n",
    "  , t1.page\n",
    "  , t1.pageLoadTime\n",
    "  , CAST(IF(t2.isExit IS TRUE, 1, 0) AS INT64) AS isExit\n",
    "FROM\n",
    "  page_speed AS t1\n",
    "JOIN (\n",
    "  SELECT \n",
    "    sessionId\n",
    "    , hitNumber\n",
    "    , page\n",
    "    , isExit\n",
    "    , hitType\n",
    "  FROM\n",
    "    pages\n",
    ") AS t2\n",
    "ON \n",
    "  t1.sessionId = t2.sessionId \n",
    "  AND t1.page = t2.page\n",
    "  AND t1.hitNumber = t2.hitNumber+1\n",
    "ORDER BY\n",
    "  fullVisitorId\n",
    "  , sessionId ASC\n",
    "  , hitNumber ASC\n",
    "'''"
   ]
  },
  {
   "cell_type": "markdown",
   "metadata": {},
   "source": [
    "Google Cloud の Project ID を設定する（自分の環境に合わせて適宜変更する）"
   ]
  },
  {
   "cell_type": "code",
   "execution_count": 4,
   "metadata": {
    "collapsed": true
   },
   "outputs": [],
   "source": [
    "project_id = '__PROJECT__'"
   ]
  },
  {
   "cell_type": "markdown",
   "metadata": {},
   "source": [
    "pandas の read_gbq メソッドを使ってデータを取得する"
   ]
  },
  {
   "cell_type": "code",
   "execution_count": 5,
   "metadata": {},
   "outputs": [
    {
     "name": "stdout",
     "output_type": "stream",
     "text": [
      "Requesting query... ok.\n",
      "Query running...\n",
      "Query done.\n",
      "Processed: 9.2 MB\n",
      "\n",
      "Retrieving results...\n",
      "  Got page: 1; 100% done. Elapsed 11.78 s.\n",
      "Got 871 rows.\n",
      "\n",
      "Total time taken 11.8 s.\n",
      "Finished at 2018-01-15 06:03:25.\n"
     ]
    }
   ],
   "source": [
    "df = pd.read_gbq(sql, project_id=project_id, dialect='standard')"
   ]
  },
  {
   "cell_type": "markdown",
   "metadata": {},
   "source": [
    "## データの内容の確認\n",
    "とりあえず df.head() と df.describe() で概要をつかむ"
   ]
  },
  {
   "cell_type": "code",
   "execution_count": 6,
   "metadata": {},
   "outputs": [
    {
     "data": {
      "text/html": [
       "<div>\n",
       "<style>\n",
       "    .dataframe thead tr:only-child th {\n",
       "        text-align: right;\n",
       "    }\n",
       "\n",
       "    .dataframe thead th {\n",
       "        text-align: left;\n",
       "    }\n",
       "\n",
       "    .dataframe tbody tr th {\n",
       "        vertical-align: top;\n",
       "    }\n",
       "</style>\n",
       "<table border=\"1\" class=\"dataframe\">\n",
       "  <thead>\n",
       "    <tr style=\"text-align: right;\">\n",
       "      <th></th>\n",
       "      <th>fullVisitorId</th>\n",
       "      <th>sessionId</th>\n",
       "      <th>hitNumber</th>\n",
       "      <th>page</th>\n",
       "      <th>pageLoadTime</th>\n",
       "      <th>isExit</th>\n",
       "    </tr>\n",
       "  </thead>\n",
       "  <tbody>\n",
       "    <tr>\n",
       "      <th>0</th>\n",
       "      <td>1001466708552294901</td>\n",
       "      <td>10014667085522949011505183639</td>\n",
       "      <td>1</td>\n",
       "      <td>/2012/08/google-nri.html</td>\n",
       "      <td>3612</td>\n",
       "      <td>0</td>\n",
       "    </tr>\n",
       "    <tr>\n",
       "      <th>1</th>\n",
       "      <td>1001466708552294901</td>\n",
       "      <td>10014667085522949011505183639</td>\n",
       "      <td>9</td>\n",
       "      <td>/2012/08/google-nri.html</td>\n",
       "      <td>396</td>\n",
       "      <td>1</td>\n",
       "    </tr>\n",
       "    <tr>\n",
       "      <th>2</th>\n",
       "      <td>1023676757520811215</td>\n",
       "      <td>10236767575208112151490683089</td>\n",
       "      <td>1</td>\n",
       "      <td>/2013/01/lixil-google.html</td>\n",
       "      <td>7347</td>\n",
       "      <td>1</td>\n",
       "    </tr>\n",
       "    <tr>\n",
       "      <th>3</th>\n",
       "      <td>1039176933731003273</td>\n",
       "      <td>10391769337310032731506864007</td>\n",
       "      <td>1</td>\n",
       "      <td>/2016/05/firebase-analytics.html</td>\n",
       "      <td>4534</td>\n",
       "      <td>0</td>\n",
       "    </tr>\n",
       "    <tr>\n",
       "      <th>4</th>\n",
       "      <td>1039176933731003273</td>\n",
       "      <td>10391769337310032731506864007</td>\n",
       "      <td>3</td>\n",
       "      <td>/2017/05/firebase-analytics.html</td>\n",
       "      <td>3198</td>\n",
       "      <td>1</td>\n",
       "    </tr>\n",
       "  </tbody>\n",
       "</table>\n",
       "</div>"
      ],
      "text/plain": [
       "         fullVisitorId                      sessionId  hitNumber  \\\n",
       "0  1001466708552294901  10014667085522949011505183639          1   \n",
       "1  1001466708552294901  10014667085522949011505183639          9   \n",
       "2  1023676757520811215  10236767575208112151490683089          1   \n",
       "3  1039176933731003273  10391769337310032731506864007          1   \n",
       "4  1039176933731003273  10391769337310032731506864007          3   \n",
       "\n",
       "                               page  pageLoadTime  isExit  \n",
       "0          /2012/08/google-nri.html          3612       0  \n",
       "1          /2012/08/google-nri.html           396       1  \n",
       "2        /2013/01/lixil-google.html          7347       1  \n",
       "3  /2016/05/firebase-analytics.html          4534       0  \n",
       "4  /2017/05/firebase-analytics.html          3198       1  "
      ]
     },
     "execution_count": 6,
     "metadata": {},
     "output_type": "execute_result"
    }
   ],
   "source": [
    "df.head()"
   ]
  },
  {
   "cell_type": "code",
   "execution_count": 7,
   "metadata": {},
   "outputs": [
    {
     "data": {
      "text/html": [
       "<div>\n",
       "<style>\n",
       "    .dataframe thead tr:only-child th {\n",
       "        text-align: right;\n",
       "    }\n",
       "\n",
       "    .dataframe thead th {\n",
       "        text-align: left;\n",
       "    }\n",
       "\n",
       "    .dataframe tbody tr th {\n",
       "        vertical-align: top;\n",
       "    }\n",
       "</style>\n",
       "<table border=\"1\" class=\"dataframe\">\n",
       "  <thead>\n",
       "    <tr style=\"text-align: right;\">\n",
       "      <th></th>\n",
       "      <th>hitNumber</th>\n",
       "      <th>pageLoadTime</th>\n",
       "      <th>isExit</th>\n",
       "    </tr>\n",
       "  </thead>\n",
       "  <tbody>\n",
       "    <tr>\n",
       "      <th>count</th>\n",
       "      <td>871.000000</td>\n",
       "      <td>871.000000</td>\n",
       "      <td>871.000000</td>\n",
       "    </tr>\n",
       "    <tr>\n",
       "      <th>mean</th>\n",
       "      <td>1.815155</td>\n",
       "      <td>5070.510907</td>\n",
       "      <td>0.842710</td>\n",
       "    </tr>\n",
       "    <tr>\n",
       "      <th>std</th>\n",
       "      <td>2.813195</td>\n",
       "      <td>7578.132540</td>\n",
       "      <td>0.364284</td>\n",
       "    </tr>\n",
       "    <tr>\n",
       "      <th>min</th>\n",
       "      <td>1.000000</td>\n",
       "      <td>169.000000</td>\n",
       "      <td>0.000000</td>\n",
       "    </tr>\n",
       "    <tr>\n",
       "      <th>25%</th>\n",
       "      <td>1.000000</td>\n",
       "      <td>1733.500000</td>\n",
       "      <td>1.000000</td>\n",
       "    </tr>\n",
       "    <tr>\n",
       "      <th>50%</th>\n",
       "      <td>1.000000</td>\n",
       "      <td>2886.000000</td>\n",
       "      <td>1.000000</td>\n",
       "    </tr>\n",
       "    <tr>\n",
       "      <th>75%</th>\n",
       "      <td>1.000000</td>\n",
       "      <td>5491.000000</td>\n",
       "      <td>1.000000</td>\n",
       "    </tr>\n",
       "    <tr>\n",
       "      <th>max</th>\n",
       "      <td>39.000000</td>\n",
       "      <td>113955.000000</td>\n",
       "      <td>1.000000</td>\n",
       "    </tr>\n",
       "  </tbody>\n",
       "</table>\n",
       "</div>"
      ],
      "text/plain": [
       "        hitNumber   pageLoadTime      isExit\n",
       "count  871.000000     871.000000  871.000000\n",
       "mean     1.815155    5070.510907    0.842710\n",
       "std      2.813195    7578.132540    0.364284\n",
       "min      1.000000     169.000000    0.000000\n",
       "25%      1.000000    1733.500000    1.000000\n",
       "50%      1.000000    2886.000000    1.000000\n",
       "75%      1.000000    5491.000000    1.000000\n",
       "max     39.000000  113955.000000    1.000000"
      ]
     },
     "execution_count": 7,
     "metadata": {},
     "output_type": "execute_result"
    }
   ],
   "source": [
    "df.describe()"
   ]
  },
  {
   "cell_type": "markdown",
   "metadata": {},
   "source": [
    "離脱している群（ isExit が 1 のもの ）と離脱していない群を比較する"
   ]
  },
  {
   "cell_type": "code",
   "execution_count": 8,
   "metadata": {},
   "outputs": [
    {
     "data": {
      "text/html": [
       "<div>\n",
       "<style>\n",
       "    .dataframe thead tr:only-child th {\n",
       "        text-align: right;\n",
       "    }\n",
       "\n",
       "    .dataframe thead th {\n",
       "        text-align: left;\n",
       "    }\n",
       "\n",
       "    .dataframe tbody tr th {\n",
       "        vertical-align: top;\n",
       "    }\n",
       "</style>\n",
       "<table border=\"1\" class=\"dataframe\">\n",
       "  <thead>\n",
       "    <tr style=\"text-align: right;\">\n",
       "      <th></th>\n",
       "      <th>hitNumber</th>\n",
       "      <th>pageLoadTime</th>\n",
       "      <th>isExit</th>\n",
       "    </tr>\n",
       "  </thead>\n",
       "  <tbody>\n",
       "    <tr>\n",
       "      <th>count</th>\n",
       "      <td>734.000000</td>\n",
       "      <td>734.000000</td>\n",
       "      <td>734.0</td>\n",
       "    </tr>\n",
       "    <tr>\n",
       "      <th>mean</th>\n",
       "      <td>1.630790</td>\n",
       "      <td>5295.442779</td>\n",
       "      <td>1.0</td>\n",
       "    </tr>\n",
       "    <tr>\n",
       "      <th>std</th>\n",
       "      <td>2.463082</td>\n",
       "      <td>8058.721464</td>\n",
       "      <td>0.0</td>\n",
       "    </tr>\n",
       "    <tr>\n",
       "      <th>min</th>\n",
       "      <td>1.000000</td>\n",
       "      <td>228.000000</td>\n",
       "      <td>1.0</td>\n",
       "    </tr>\n",
       "    <tr>\n",
       "      <th>25%</th>\n",
       "      <td>1.000000</td>\n",
       "      <td>1802.250000</td>\n",
       "      <td>1.0</td>\n",
       "    </tr>\n",
       "    <tr>\n",
       "      <th>50%</th>\n",
       "      <td>1.000000</td>\n",
       "      <td>2917.500000</td>\n",
       "      <td>1.0</td>\n",
       "    </tr>\n",
       "    <tr>\n",
       "      <th>75%</th>\n",
       "      <td>1.000000</td>\n",
       "      <td>5755.750000</td>\n",
       "      <td>1.0</td>\n",
       "    </tr>\n",
       "    <tr>\n",
       "      <th>max</th>\n",
       "      <td>39.000000</td>\n",
       "      <td>113955.000000</td>\n",
       "      <td>1.0</td>\n",
       "    </tr>\n",
       "  </tbody>\n",
       "</table>\n",
       "</div>"
      ],
      "text/plain": [
       "        hitNumber   pageLoadTime  isExit\n",
       "count  734.000000     734.000000   734.0\n",
       "mean     1.630790    5295.442779     1.0\n",
       "std      2.463082    8058.721464     0.0\n",
       "min      1.000000     228.000000     1.0\n",
       "25%      1.000000    1802.250000     1.0\n",
       "50%      1.000000    2917.500000     1.0\n",
       "75%      1.000000    5755.750000     1.0\n",
       "max     39.000000  113955.000000     1.0"
      ]
     },
     "execution_count": 8,
     "metadata": {},
     "output_type": "execute_result"
    }
   ],
   "source": [
    "df[df.isExit==1].describe()"
   ]
  },
  {
   "cell_type": "code",
   "execution_count": 9,
   "metadata": {},
   "outputs": [
    {
     "data": {
      "text/html": [
       "<div>\n",
       "<style>\n",
       "    .dataframe thead tr:only-child th {\n",
       "        text-align: right;\n",
       "    }\n",
       "\n",
       "    .dataframe thead th {\n",
       "        text-align: left;\n",
       "    }\n",
       "\n",
       "    .dataframe tbody tr th {\n",
       "        vertical-align: top;\n",
       "    }\n",
       "</style>\n",
       "<table border=\"1\" class=\"dataframe\">\n",
       "  <thead>\n",
       "    <tr style=\"text-align: right;\">\n",
       "      <th></th>\n",
       "      <th>hitNumber</th>\n",
       "      <th>pageLoadTime</th>\n",
       "      <th>isExit</th>\n",
       "    </tr>\n",
       "  </thead>\n",
       "  <tbody>\n",
       "    <tr>\n",
       "      <th>count</th>\n",
       "      <td>137.000000</td>\n",
       "      <td>137.000000</td>\n",
       "      <td>137.0</td>\n",
       "    </tr>\n",
       "    <tr>\n",
       "      <th>mean</th>\n",
       "      <td>2.802920</td>\n",
       "      <td>3865.401460</td>\n",
       "      <td>0.0</td>\n",
       "    </tr>\n",
       "    <tr>\n",
       "      <th>std</th>\n",
       "      <td>4.094184</td>\n",
       "      <td>3951.105634</td>\n",
       "      <td>0.0</td>\n",
       "    </tr>\n",
       "    <tr>\n",
       "      <th>min</th>\n",
       "      <td>1.000000</td>\n",
       "      <td>169.000000</td>\n",
       "      <td>0.0</td>\n",
       "    </tr>\n",
       "    <tr>\n",
       "      <th>25%</th>\n",
       "      <td>1.000000</td>\n",
       "      <td>1582.000000</td>\n",
       "      <td>0.0</td>\n",
       "    </tr>\n",
       "    <tr>\n",
       "      <th>50%</th>\n",
       "      <td>1.000000</td>\n",
       "      <td>2746.000000</td>\n",
       "      <td>0.0</td>\n",
       "    </tr>\n",
       "    <tr>\n",
       "      <th>75%</th>\n",
       "      <td>3.000000</td>\n",
       "      <td>4534.000000</td>\n",
       "      <td>0.0</td>\n",
       "    </tr>\n",
       "    <tr>\n",
       "      <th>max</th>\n",
       "      <td>28.000000</td>\n",
       "      <td>31838.000000</td>\n",
       "      <td>0.0</td>\n",
       "    </tr>\n",
       "  </tbody>\n",
       "</table>\n",
       "</div>"
      ],
      "text/plain": [
       "        hitNumber  pageLoadTime  isExit\n",
       "count  137.000000    137.000000   137.0\n",
       "mean     2.802920   3865.401460     0.0\n",
       "std      4.094184   3951.105634     0.0\n",
       "min      1.000000    169.000000     0.0\n",
       "25%      1.000000   1582.000000     0.0\n",
       "50%      1.000000   2746.000000     0.0\n",
       "75%      3.000000   4534.000000     0.0\n",
       "max     28.000000  31838.000000     0.0"
      ]
     },
     "execution_count": 9,
     "metadata": {},
     "output_type": "execute_result"
    }
   ],
   "source": [
    "df[df.isExit==0].describe()"
   ]
  },
  {
   "cell_type": "markdown",
   "metadata": {},
   "source": [
    "離脱してる方が\n",
    "- hit number は 1.2 ほど小さい\n",
    "- pageLoadTime は 平均で 1.43 秒長い（が、分散が倍近い）  \n",
    "\n",
    "これらの違いを可視化して確認してみる。"
   ]
  },
  {
   "cell_type": "markdown",
   "metadata": {},
   "source": [
    "## 可視化\n",
    "とりあえず離脱群と非離脱群の比較を Boxplot で行う"
   ]
  },
  {
   "cell_type": "code",
   "execution_count": 10,
   "metadata": {},
   "outputs": [
    {
     "data": {
      "image/png": "[encoded data removed]",
      "text/plain": [
       "<matplotlib.figure.Figure at 0x1090b7400>"
      ]
     },
     "metadata": {},
     "output_type": "display_data"
    }
   ],
   "source": [
    "fig = plt.figure(figsize=(8, 6))\n",
    "ax = fig.gca()\n",
    "ax = sns.boxplot(x='isExit', y='pageLoadTime', data=df, dodge=True)\n",
    "ax.set(yscale='log')\n",
    "ax.set_title('Page Load time distribution for if exists or not', fontsize=18)\n",
    "ax.set_xlabel('Exit or not (1 = exit)', fontsize=14)\n",
    "ax.set_ylabel('Page load time (log)', fontsize=14)\n",
    "plt.xticks(fontsize=14)\n",
    "plt.yticks(fontsize=14)\n",
    "plt.show()"
   ]
  },
  {
   "cell_type": "markdown",
   "metadata": {},
   "source": [
    "離脱群と非離脱群の違いが小さくこれだけだとわかりにくいので、もう少しブレイクダウンする。まず hit number の傾向を把握する。"
   ]
  },
  {
   "cell_type": "code",
   "execution_count": 11,
   "metadata": {},
   "outputs": [
    {
     "data": {
      "image/png": "[encoded data removed]",
      "text/plain": [
       "<matplotlib.figure.Figure at 0x1092280b8>"
      ]
     },
     "metadata": {},
     "output_type": "display_data"
    }
   ],
   "source": [
    "fig = plt.figure(figsize=(8, 6))\n",
    "ax = fig.gca()\n",
    "ax.set_title('Normalized hit number histogram', fontsize=18)\n",
    "ax.hist(df.hitNumber, bins=38, normed=True)\n",
    "ax.set_xlabel('hit number', fontsize=14)\n",
    "plt.xticks(fontsize=14)\n",
    "plt.yticks(fontsize=14)\n",
    "plt.show()"
   ]
  },
  {
   "cell_type": "markdown",
   "metadata": {},
   "source": [
    "おおよそ 11 ~ 12 あたりまでで 90 % 占めてそう。  \n",
    "hitNumber < 15 で Botplot 描いてみる"
   ]
  },
  {
   "cell_type": "code",
   "execution_count": 12,
   "metadata": {},
   "outputs": [
    {
     "data": {
      "image/png": "[encoded data removed]",
      "text/plain": [
       "<matplotlib.figure.Figure at 0x1092a6828>"
      ]
     },
     "metadata": {},
     "output_type": "display_data"
    }
   ],
   "source": [
    "data = df[df.hitNumber < 15]\n",
    "fig = plt.figure(figsize=(20, 14))\n",
    "ax = sns.boxplot(x='hitNumber', y='pageLoadTime', hue='isExit',\n",
    "               data=data,\n",
    "               dodge=True)\n",
    "ax.set_title('pageLoadTime distribution by hit numbers', fontsize=18)\n",
    "ax.set(yscale='log')\n",
    "ax.set_ylabel('Page Load Time (log)', fontsize=14)\n",
    "ax.set_xlabel('Hit numbers within a session', fontsize=14)\n",
    "ax.legend(fontsize=14).set_title('Exit or not', prop={'size': 14})\n",
    "plt.xticks(fontsize=14)\n",
    "plt.yticks(fontsize=14)\n",
    "plt.show()"
   ]
  },
  {
   "cell_type": "markdown",
   "metadata": {},
   "source": [
    "Hit number = 6 までは、概ね離脱の有無と pageLoadTime に正の相関ありそう（ 離脱群の方が pageLoadTime 長そう ）。  \n",
    "それ以降はまちまち。"
   ]
  },
  {
   "cell_type": "markdown",
   "metadata": {},
   "source": [
    "## さらなる定量評価と改善すべきページの洗い出し\n",
    "page ✕ 離脱の有無 ごとに pageLoadTime の中央値と標準偏差を計算する。"
   ]
  },
  {
   "cell_type": "code",
   "execution_count": 13,
   "metadata": {
    "collapsed": true
   },
   "outputs": [],
   "source": [
    "data = df[['page', 'isExit', 'pageLoadTime']].groupby(\n",
    "    ['page', 'isExit'], as_index=False).agg({'pageLoadTime': ['median', 'std']})\n",
    "data.columns = ['page', 'isExit', 'median_pageLoadTime', 'std_pageLoadTime']"
   ]
  },
  {
   "cell_type": "code",
   "execution_count": 14,
   "metadata": {},
   "outputs": [
    {
     "data": {
      "text/html": [
       "<div>\n",
       "<style>\n",
       "    .dataframe thead tr:only-child th {\n",
       "        text-align: right;\n",
       "    }\n",
       "\n",
       "    .dataframe thead th {\n",
       "        text-align: left;\n",
       "    }\n",
       "\n",
       "    .dataframe tbody tr th {\n",
       "        vertical-align: top;\n",
       "    }\n",
       "</style>\n",
       "<table border=\"1\" class=\"dataframe\">\n",
       "  <thead>\n",
       "    <tr style=\"text-align: right;\">\n",
       "      <th></th>\n",
       "      <th>page</th>\n",
       "      <th>isExit</th>\n",
       "      <th>median_pageLoadTime</th>\n",
       "      <th>std_pageLoadTime</th>\n",
       "    </tr>\n",
       "  </thead>\n",
       "  <tbody>\n",
       "    <tr>\n",
       "      <th>0</th>\n",
       "      <td>/</td>\n",
       "      <td>0</td>\n",
       "      <td>3940.0</td>\n",
       "      <td>5139.768735</td>\n",
       "    </tr>\n",
       "    <tr>\n",
       "      <th>1</th>\n",
       "      <td>/</td>\n",
       "      <td>1</td>\n",
       "      <td>4850.5</td>\n",
       "      <td>9729.451438</td>\n",
       "    </tr>\n",
       "    <tr>\n",
       "      <th>2</th>\n",
       "      <td>/2007/07/blog-post_23.html</td>\n",
       "      <td>1</td>\n",
       "      <td>3699.0</td>\n",
       "      <td>1426.941484</td>\n",
       "    </tr>\n",
       "    <tr>\n",
       "      <th>3</th>\n",
       "      <td>/2007/09/how-to-track-email-campaigns.html</td>\n",
       "      <td>1</td>\n",
       "      <td>4328.0</td>\n",
       "      <td>NaN</td>\n",
       "    </tr>\n",
       "    <tr>\n",
       "      <th>4</th>\n",
       "      <td>/2007/10/how-to-restore-garbled-japanese.html</td>\n",
       "      <td>1</td>\n",
       "      <td>3300.5</td>\n",
       "      <td>1685.741934</td>\n",
       "    </tr>\n",
       "  </tbody>\n",
       "</table>\n",
       "</div>"
      ],
      "text/plain": [
       "                                            page  isExit  median_pageLoadTime  \\\n",
       "0                                              /       0               3940.0   \n",
       "1                                              /       1               4850.5   \n",
       "2                     /2007/07/blog-post_23.html       1               3699.0   \n",
       "3     /2007/09/how-to-track-email-campaigns.html       1               4328.0   \n",
       "4  /2007/10/how-to-restore-garbled-japanese.html       1               3300.5   \n",
       "\n",
       "   std_pageLoadTime  \n",
       "0       5139.768735  \n",
       "1       9729.451438  \n",
       "2       1426.941484  \n",
       "3               NaN  \n",
       "4       1685.741934  "
      ]
     },
     "execution_count": 14,
     "metadata": {},
     "output_type": "execute_result"
    }
   ],
   "source": [
    "data.head()"
   ]
  },
  {
   "cell_type": "markdown",
   "metadata": {},
   "source": [
    "欠損値を埋めるために、  \n",
    "- 元データ（ df ）から、ページの URL のユニーク値を取得\n",
    "- カラム isExit の欠損値は 1、0 で埋める\n",
    "- pageLoadTime の中央値・標準偏差の欠損値は、それぞれの平均で埋める"
   ]
  },
  {
   "cell_type": "code",
   "execution_count": 15,
   "metadata": {
    "collapsed": true
   },
   "outputs": [],
   "source": [
    "pages = pd.DataFrame(df['page'].unique(), columns=['page'])"
   ]
  },
  {
   "cell_type": "code",
   "execution_count": 16,
   "metadata": {
    "collapsed": true
   },
   "outputs": [],
   "source": [
    "data_exit = data[data.isExit == 1]\n",
    "data_non_exit = data[data.isExit==0]\n",
    "\n",
    "data_exit = pd.merge(pages, data_exit, on='page', how='left')\n",
    "data_exit['isExit'] = data_exit.isExit.fillna(1)\n",
    "data_exit['median_pageLoadTime'] = data_exit.median_pageLoadTime.fillna(data_exit.median_pageLoadTime.mean())\n",
    "data_exit['std_pageLoadTime'] = data_exit.std_pageLoadTime.fillna(data_exit.std_pageLoadTime.mean())\n",
    "\n",
    "data_non_exit = pd.merge(pages, data_non_exit, on='page', how='left')\n",
    "data_non_exit['isExit'] = data_non_exit.isExit.fillna(0)\n",
    "data_non_exit['median_pageLoadTime'] = data_non_exit.median_pageLoadTime.fillna(data_non_exit.median_pageLoadTime.mean())\n",
    "data_non_exit['std_pageLoadTime'] = data_non_exit.std_pageLoadTime.fillna(data_non_exit.std_pageLoadTime.mean())"
   ]
  },
  {
   "cell_type": "code",
   "execution_count": 17,
   "metadata": {
    "collapsed": true
   },
   "outputs": [],
   "source": [
    "page_data = pd.concat([data_exit, data_non_exit])"
   ]
  },
  {
   "cell_type": "markdown",
   "metadata": {},
   "source": [
    "ページ・離脱の有無・pageLoadTime の平均でソート"
   ]
  },
  {
   "cell_type": "code",
   "execution_count": 18,
   "metadata": {},
   "outputs": [
    {
     "data": {
      "text/html": [
       "<div>\n",
       "<style>\n",
       "    .dataframe thead tr:only-child th {\n",
       "        text-align: right;\n",
       "    }\n",
       "\n",
       "    .dataframe thead th {\n",
       "        text-align: left;\n",
       "    }\n",
       "\n",
       "    .dataframe tbody tr th {\n",
       "        vertical-align: top;\n",
       "    }\n",
       "</style>\n",
       "<table border=\"1\" class=\"dataframe\">\n",
       "  <thead>\n",
       "    <tr style=\"text-align: right;\">\n",
       "      <th></th>\n",
       "      <th>page</th>\n",
       "      <th>isExit</th>\n",
       "      <th>median_pageLoadTime</th>\n",
       "      <th>std_pageLoadTime</th>\n",
       "    </tr>\n",
       "  </thead>\n",
       "  <tbody>\n",
       "    <tr>\n",
       "      <th>5</th>\n",
       "      <td>/</td>\n",
       "      <td>0.0</td>\n",
       "      <td>3940.00</td>\n",
       "      <td>5139.768735</td>\n",
       "    </tr>\n",
       "    <tr>\n",
       "      <th>5</th>\n",
       "      <td>/</td>\n",
       "      <td>1.0</td>\n",
       "      <td>4850.50</td>\n",
       "      <td>9729.451438</td>\n",
       "    </tr>\n",
       "    <tr>\n",
       "      <th>86</th>\n",
       "      <td>/2007/07/blog-post_23.html</td>\n",
       "      <td>0.0</td>\n",
       "      <td>2853.11</td>\n",
       "      <td>1348.467733</td>\n",
       "    </tr>\n",
       "    <tr>\n",
       "      <th>86</th>\n",
       "      <td>/2007/07/blog-post_23.html</td>\n",
       "      <td>1.0</td>\n",
       "      <td>3699.00</td>\n",
       "      <td>1426.941484</td>\n",
       "    </tr>\n",
       "    <tr>\n",
       "      <th>91</th>\n",
       "      <td>/2007/09/how-to-track-email-campaigns.html</td>\n",
       "      <td>0.0</td>\n",
       "      <td>2853.11</td>\n",
       "      <td>1348.467733</td>\n",
       "    </tr>\n",
       "    <tr>\n",
       "      <th>91</th>\n",
       "      <td>/2007/09/how-to-track-email-campaigns.html</td>\n",
       "      <td>1.0</td>\n",
       "      <td>4328.00</td>\n",
       "      <td>2179.203837</td>\n",
       "    </tr>\n",
       "    <tr>\n",
       "      <th>41</th>\n",
       "      <td>/2007/10/how-to-restore-garbled-japanese.html</td>\n",
       "      <td>0.0</td>\n",
       "      <td>2853.11</td>\n",
       "      <td>1348.467733</td>\n",
       "    </tr>\n",
       "    <tr>\n",
       "      <th>41</th>\n",
       "      <td>/2007/10/how-to-restore-garbled-japanese.html</td>\n",
       "      <td>1.0</td>\n",
       "      <td>3300.50</td>\n",
       "      <td>1685.741934</td>\n",
       "    </tr>\n",
       "    <tr>\n",
       "      <th>124</th>\n",
       "      <td>/2007/12/how-to-set-up-goal.htm</td>\n",
       "      <td>0.0</td>\n",
       "      <td>2853.11</td>\n",
       "      <td>1348.467733</td>\n",
       "    </tr>\n",
       "    <tr>\n",
       "      <th>124</th>\n",
       "      <td>/2007/12/how-to-set-up-goal.htm</td>\n",
       "      <td>1.0</td>\n",
       "      <td>2176.00</td>\n",
       "      <td>2179.203837</td>\n",
       "    </tr>\n",
       "  </tbody>\n",
       "</table>\n",
       "</div>"
      ],
      "text/plain": [
       "                                              page  isExit  \\\n",
       "5                                                /     0.0   \n",
       "5                                                /     1.0   \n",
       "86                      /2007/07/blog-post_23.html     0.0   \n",
       "86                      /2007/07/blog-post_23.html     1.0   \n",
       "91      /2007/09/how-to-track-email-campaigns.html     0.0   \n",
       "91      /2007/09/how-to-track-email-campaigns.html     1.0   \n",
       "41   /2007/10/how-to-restore-garbled-japanese.html     0.0   \n",
       "41   /2007/10/how-to-restore-garbled-japanese.html     1.0   \n",
       "124                /2007/12/how-to-set-up-goal.htm     0.0   \n",
       "124                /2007/12/how-to-set-up-goal.htm     1.0   \n",
       "\n",
       "     median_pageLoadTime  std_pageLoadTime  \n",
       "5                3940.00       5139.768735  \n",
       "5                4850.50       9729.451438  \n",
       "86               2853.11       1348.467733  \n",
       "86               3699.00       1426.941484  \n",
       "91               2853.11       1348.467733  \n",
       "91               4328.00       2179.203837  \n",
       "41               2853.11       1348.467733  \n",
       "41               3300.50       1685.741934  \n",
       "124              2853.11       1348.467733  \n",
       "124              2176.00       2179.203837  "
      ]
     },
     "execution_count": 18,
     "metadata": {},
     "output_type": "execute_result"
    }
   ],
   "source": [
    "page_data.sort_values(by=['page', 'isExit', 'median_pageLoadTime'], ascending=['True', 'True', 'False']).head(10)"
   ]
  },
  {
   "cell_type": "markdown",
   "metadata": {},
   "source": [
    "離脱群と非離脱群で、中央値 pageLoadTime の差が大きいものとそうでないものがある。差が大きい方が離脱に影響している可能性高そうなので、離脱群と非離脱群で pageLoadTime の中央値と標準偏差の差分を取り、page でユニークなテーブルを作成する。"
   ]
  },
  {
   "cell_type": "code",
   "execution_count": 19,
   "metadata": {
    "collapsed": true
   },
   "outputs": [],
   "source": [
    "pivoted = page_data.pivot(columns='isExit', index='page')\n",
    "pivoted.columns = [\n",
    "    'nonexit_median_pageLoadTime', 'exit_median_pageLoadTime',\n",
    "    'nonexit_std_pageLoadTime', 'exit_std_pageLoadTime']\n",
    "pivoted = pivoted.reset_index()\n",
    "pivoted['diff_median_pageLoadTime'] = pivoted.exit_median_pageLoadTime - pivoted.nonexit_median_pageLoadTime\n",
    "pivoted['diff_std_pageLoadTime'] = pivoted.exit_std_pageLoadTime - pivoted.nonexit_std_pageLoadTime"
   ]
  },
  {
   "cell_type": "markdown",
   "metadata": {},
   "source": [
    "離脱群と非離脱群で pageLoadTime の中央値の差が大きく、標準偏差の差が小さいものでソート  \n",
    "- 中央値の差が大きくばらつきの違いが小さいものから順にページ速度の改善を検討する。"
   ]
  },
  {
   "cell_type": "code",
   "execution_count": 20,
   "metadata": {},
   "outputs": [
    {
     "data": {
      "text/html": [
       "<div>\n",
       "<style>\n",
       "    .dataframe thead tr:only-child th {\n",
       "        text-align: right;\n",
       "    }\n",
       "\n",
       "    .dataframe thead th {\n",
       "        text-align: left;\n",
       "    }\n",
       "\n",
       "    .dataframe tbody tr th {\n",
       "        vertical-align: top;\n",
       "    }\n",
       "</style>\n",
       "<table border=\"1\" class=\"dataframe\">\n",
       "  <thead>\n",
       "    <tr style=\"text-align: right;\">\n",
       "      <th></th>\n",
       "      <th>page</th>\n",
       "      <th>diff_median_pageLoadTime</th>\n",
       "      <th>diff_std_pageLoadTime</th>\n",
       "    </tr>\n",
       "  </thead>\n",
       "  <tbody>\n",
       "    <tr>\n",
       "      <th>116</th>\n",
       "      <td>/2017/11/blog-post.html</td>\n",
       "      <td>12419.89</td>\n",
       "      <td>830.736104</td>\n",
       "    </tr>\n",
       "    <tr>\n",
       "      <th>115</th>\n",
       "      <td>/2017/10/google_3.html</td>\n",
       "      <td>7082.00</td>\n",
       "      <td>830.736104</td>\n",
       "    </tr>\n",
       "    <tr>\n",
       "      <th>38</th>\n",
       "      <td>/2013/09/google.html</td>\n",
       "      <td>5066.39</td>\n",
       "      <td>5003.472482</td>\n",
       "    </tr>\n",
       "    <tr>\n",
       "      <th>100</th>\n",
       "      <td>/2017/05/google-google-360-adwords.html</td>\n",
       "      <td>4703.00</td>\n",
       "      <td>-355.810021</td>\n",
       "    </tr>\n",
       "    <tr>\n",
       "      <th>58</th>\n",
       "      <td>/2016/06/blog-post.html</td>\n",
       "      <td>4076.89</td>\n",
       "      <td>830.736104</td>\n",
       "    </tr>\n",
       "    <tr>\n",
       "      <th>124</th>\n",
       "      <td>/2018/01/google.html</td>\n",
       "      <td>3045.89</td>\n",
       "      <td>830.736104</td>\n",
       "    </tr>\n",
       "    <tr>\n",
       "      <th>99</th>\n",
       "      <td>/2017/05/google-amp.html</td>\n",
       "      <td>2746.00</td>\n",
       "      <td>1683.895813</td>\n",
       "    </tr>\n",
       "    <tr>\n",
       "      <th>123</th>\n",
       "      <td>/2017/12/firebase-google.html</td>\n",
       "      <td>2424.89</td>\n",
       "      <td>830.736104</td>\n",
       "    </tr>\n",
       "    <tr>\n",
       "      <th>28</th>\n",
       "      <td>/2011/12/club-panasonic-google.html</td>\n",
       "      <td>2353.89</td>\n",
       "      <td>830.736104</td>\n",
       "    </tr>\n",
       "    <tr>\n",
       "      <th>107</th>\n",
       "      <td>/2017/10/blog-post.html</td>\n",
       "      <td>2308.00</td>\n",
       "      <td>2439.281633</td>\n",
       "    </tr>\n",
       "  </tbody>\n",
       "</table>\n",
       "</div>"
      ],
      "text/plain": [
       "                                        page  diff_median_pageLoadTime  \\\n",
       "116                  /2017/11/blog-post.html                  12419.89   \n",
       "115                   /2017/10/google_3.html                   7082.00   \n",
       "38                      /2013/09/google.html                   5066.39   \n",
       "100  /2017/05/google-google-360-adwords.html                   4703.00   \n",
       "58                   /2016/06/blog-post.html                   4076.89   \n",
       "124                     /2018/01/google.html                   3045.89   \n",
       "99                  /2017/05/google-amp.html                   2746.00   \n",
       "123            /2017/12/firebase-google.html                   2424.89   \n",
       "28       /2011/12/club-panasonic-google.html                   2353.89   \n",
       "107                  /2017/10/blog-post.html                   2308.00   \n",
       "\n",
       "     diff_std_pageLoadTime  \n",
       "116             830.736104  \n",
       "115             830.736104  \n",
       "38             5003.472482  \n",
       "100            -355.810021  \n",
       "58              830.736104  \n",
       "124             830.736104  \n",
       "99             1683.895813  \n",
       "123             830.736104  \n",
       "28              830.736104  \n",
       "107            2439.281633  "
      ]
     },
     "execution_count": 20,
     "metadata": {},
     "output_type": "execute_result"
    }
   ],
   "source": [
    "rankings = pivoted.sort_values(by=['diff_median_pageLoadTime', 'diff_std_pageLoadTime'], ascending=[False, True])\n",
    "rankings[['page', 'diff_median_pageLoadTime', 'diff_std_pageLoadTime']].head(10)"
   ]
  }
 ],
 "metadata": {
  "kernelspec": {
   "display_name": "Python 3",
   "language": "python",
   "name": "python3"
  },
  "language_info": {
   "codemirror_mode": {
    "name": "ipython",
    "version": 3
   },
   "file_extension": ".py",
   "mimetype": "text/x-python",
   "name": "python",
   "nbconvert_exporter": "python",
   "pygments_lexer": "ipython3",
   "version": "3.6.1"
  },
  "toc": {
   "nav_menu": {},
   "number_sections": false,
   "sideBar": true,
   "skip_h1_title": false,
   "toc_cell": true,
   "toc_position": {},
   "toc_section_display": "block",
   "toc_window_display": false
  },
  "varInspector": {
   "cols": {
    "lenName": 16,
    "lenType": 16,
    "lenVar": 40
   },
   "kernels_config": {
    "python": {
     "delete_cmd_postfix": "",
     "delete_cmd_prefix": "del ",
     "library": "var_list.py",
     "varRefreshCmd": "print(var_dic_list())"
    },
    "r": {
     "delete_cmd_postfix": ") ",
     "delete_cmd_prefix": "rm(",
     "library": "var_list.r",
     "varRefreshCmd": "cat(var_dic_list()) "
    }
   },
   "types_to_exclude": [
    "module",
    "function",
    "builtin_function_or_method",
    "instance",
    "_Feature"
   ],
   "window_display": false
  }
 },
 "nbformat": 4,
 "nbformat_minor": 2
}
